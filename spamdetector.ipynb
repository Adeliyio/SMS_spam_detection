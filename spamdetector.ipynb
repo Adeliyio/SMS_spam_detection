{
 "cells": [
  {
   "cell_type": "code",
   "execution_count": 1,
   "id": "bc01a248",
   "metadata": {},
   "outputs": [
    {
     "name": "stderr",
     "output_type": "stream",
     "text": [
      "2023-10-31 22:30:35.772 \n",
      "  \u001b[33m\u001b[1mWarning:\u001b[0m to view this Streamlit app on a browser, run it with the following\n",
      "  command:\n",
      "\n",
      "    streamlit run C:\\Users\\User\\anaconda3\\lib\\site-packages\\ipykernel_launcher.py [ARGUMENTS]\n"
     ]
    }
   ],
   "source": [
    "#Import Relevant Libraries\n",
    "import pandas as pd\n",
    "import numpy as np\n",
    "from sklearn.feature_extraction.text import CountVectorizer\n",
    "from sklearn.model_selection import train_test_split\n",
    "from sklearn.naive_bayes import MultinomialNB\n",
    "from sklearn.metrics import accuracy_score, precision_score, recall_score, f1_score\n",
    "import streamlit as st\n",
    "\n",
    "# Data Cleaning and Preprocessing\n",
    "def preprocess(text):\n",
    "    return text.lower()\n",
    "\n",
    "data = pd.read_csv(\"spam.csv\", encoding= 'latin-1')\n",
    "\n",
    "# Assuming the columns are named \"class\" and \"message\", if not, adjust accordingly\n",
    "data = data[[\"class\", \"message\"]]\n",
    "data['message'] = data['message'].apply(preprocess)\n",
    "\n",
    "x = np.array(data[\"message\"])\n",
    "y = np.array(data[\"class\"])\n",
    "\n",
    "# Using CountVectorizer\n",
    "vectorizer = CountVectorizer()\n",
    "X = vectorizer.fit_transform(x)\n",
    "X_train, X_test, y_train, y_test = train_test_split(X, y, test_size=0.33, random_state=42)\n",
    "\n",
    "# Training the model\n",
    "clf = MultinomialNB(alpha=0.5)\n",
    "clf.fit(X_train, y_train)\n",
    "\n",
    "# Model Evaluation\n",
    "y_pred = clf.predict(X_test)\n",
    "accuracy = accuracy_score(y_test, y_pred)\n",
    "precision = precision_score(y_test, y_pred, pos_label=\"spam\")\n",
    "recall = recall_score(y_test, y_pred, pos_label=\"spam\")\n",
    "f1 = f1_score(y_test, y_pred, pos_label=\"spam\")\n",
    "\n",
    "# Streamlit UI\n",
    "st.title(\"Improved Spam Detection System\")\n",
    "st.write(f\"Model Accuracy: {accuracy:.2f}\")\n",
    "st.write(f\"Model Precision: {precision:.2f}\")\n",
    "st.write(f\"Model Recall: {recall:.2f}\")\n",
    "st.write(f\"Model F1 Score: {f1:.2f}\")\n",
    "\n",
    "def spamdetection():\n",
    "    user = st.text_area(\"Enter any Message or Email: \")\n",
    "    if len(user) < 1:\n",
    "        st.write(\"  \")\n",
    "    else:\n",
    "        sample = preprocess(user)\n",
    "        data = vectorizer.transform([sample])\n",
    "        prediction = clf.predict(data)\n",
    "        prob = clf.predict_proba(data)\n",
    "        st.write(f\"Probability of being Spam: {prob[0][1]:.2f}\")\n",
    "        st.write(f\"Prediction: {'Spam' if prediction[0] == 'spam' else 'Not Spam'}\")\n",
    "\n",
    "spamdetection()\n"
   ]
  },
  {
   "cell_type": "code",
   "execution_count": null,
   "id": "57d5990d",
   "metadata": {},
   "outputs": [],
   "source": []
  }
 ],
 "metadata": {
  "kernelspec": {
   "display_name": "Python 3 (ipykernel)",
   "language": "python",
   "name": "python3"
  },
  "language_info": {
   "codemirror_mode": {
    "name": "ipython",
    "version": 3
   },
   "file_extension": ".py",
   "mimetype": "text/x-python",
   "name": "python",
   "nbconvert_exporter": "python",
   "pygments_lexer": "ipython3",
   "version": "3.9.13"
  }
 },
 "nbformat": 4,
 "nbformat_minor": 5
}
